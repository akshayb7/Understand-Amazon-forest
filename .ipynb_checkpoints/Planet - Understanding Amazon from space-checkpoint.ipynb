{
 "cells": [
  {
   "cell_type": "code",
   "execution_count": 6,
   "metadata": {},
   "outputs": [],
   "source": [
    "%reload_ext autoreload\n",
    "%autoreload 2\n",
    "%matplotlib inline"
   ]
  },
  {
   "cell_type": "code",
   "execution_count": 7,
   "metadata": {},
   "outputs": [],
   "source": [
    "# Import libraries\n",
    "from fastai import *\n",
    "from fastai.vision import *\n",
    "\n",
    "# Set seed\n",
    "np.random.seed(7)\n",
    "SEED = 7"
   ]
  },
  {
   "cell_type": "code",
   "execution_count": 8,
   "metadata": {},
   "outputs": [
    {
     "data": {
      "text/plain": [
       "PosixPath('/home/jupyter/.fastai/data/planet')"
      ]
     },
     "execution_count": 8,
     "metadata": {},
     "output_type": "execute_result"
    }
   ],
   "source": [
    "# Check if data is available\n",
    "path = Config.data_path()/'planet'\n",
    "path.mkdir(parents=True, exist_ok=True)\n",
    "path"
   ]
  },
  {
   "cell_type": "code",
   "execution_count": 9,
   "metadata": {},
   "outputs": [
    {
     "data": {
      "text/plain": [
       "[PosixPath('/home/jupyter/.fastai/data/planet/train_v2.csv'),\n",
       " PosixPath('/home/jupyter/.fastai/data/planet/train_v2.csv.zip'),\n",
       " PosixPath('/home/jupyter/.fastai/data/planet/__MACOSX'),\n",
       " PosixPath('/home/jupyter/.fastai/data/planet/test-jpg.tar.7z'),\n",
       " PosixPath('/home/jupyter/.fastai/data/planet/train-jpg'),\n",
       " PosixPath('/home/jupyter/.fastai/data/planet/test-jpg-additional'),\n",
       " PosixPath('/home/jupyter/.fastai/data/planet/models'),\n",
       " PosixPath('/home/jupyter/.fastai/data/planet/train-jpg.tar.7z'),\n",
       " PosixPath('/home/jupyter/.fastai/data/planet/test-jpg-additional.tar.7z'),\n",
       " PosixPath('/home/jupyter/.fastai/data/planet/test-jpg'),\n",
       " PosixPath('/home/jupyter/.fastai/data/planet/test-jpg-additional.tar')]"
      ]
     },
     "execution_count": 9,
     "metadata": {},
     "output_type": "execute_result"
    }
   ],
   "source": [
    "# Look at the files available\n",
    "path.ls()"
   ]
  },
  {
   "cell_type": "markdown",
   "metadata": {},
   "source": [
    "Now, let's look at how the labels for the images are provided to us"
   ]
  },
  {
   "cell_type": "code",
   "execution_count": 10,
   "metadata": {},
   "outputs": [
    {
     "data": {
      "text/html": [
       "<div>\n",
       "<style scoped>\n",
       "    .dataframe tbody tr th:only-of-type {\n",
       "        vertical-align: middle;\n",
       "    }\n",
       "\n",
       "    .dataframe tbody tr th {\n",
       "        vertical-align: top;\n",
       "    }\n",
       "\n",
       "    .dataframe thead th {\n",
       "        text-align: right;\n",
       "    }\n",
       "</style>\n",
       "<table border=\"1\" class=\"dataframe\">\n",
       "  <thead>\n",
       "    <tr style=\"text-align: right;\">\n",
       "      <th></th>\n",
       "      <th>image_name</th>\n",
       "      <th>tags</th>\n",
       "    </tr>\n",
       "  </thead>\n",
       "  <tbody>\n",
       "    <tr>\n",
       "      <th>0</th>\n",
       "      <td>train_0</td>\n",
       "      <td>haze primary</td>\n",
       "    </tr>\n",
       "    <tr>\n",
       "      <th>1</th>\n",
       "      <td>train_1</td>\n",
       "      <td>agriculture clear primary water</td>\n",
       "    </tr>\n",
       "    <tr>\n",
       "      <th>2</th>\n",
       "      <td>train_2</td>\n",
       "      <td>clear primary</td>\n",
       "    </tr>\n",
       "    <tr>\n",
       "      <th>3</th>\n",
       "      <td>train_3</td>\n",
       "      <td>clear primary</td>\n",
       "    </tr>\n",
       "    <tr>\n",
       "      <th>4</th>\n",
       "      <td>train_4</td>\n",
       "      <td>agriculture clear habitation primary road</td>\n",
       "    </tr>\n",
       "  </tbody>\n",
       "</table>\n",
       "</div>"
      ],
      "text/plain": [
       "  image_name                                       tags\n",
       "0    train_0                               haze primary\n",
       "1    train_1            agriculture clear primary water\n",
       "2    train_2                              clear primary\n",
       "3    train_3                              clear primary\n",
       "4    train_4  agriculture clear habitation primary road"
      ]
     },
     "execution_count": 10,
     "metadata": {},
     "output_type": "execute_result"
    }
   ],
   "source": [
    "df = pd.read_csv(path/'train_v2.csv')\n",
    "df.head()"
   ]
  },
  {
   "cell_type": "code",
   "execution_count": 11,
   "metadata": {},
   "outputs": [
    {
     "data": {
      "text/plain": [
       "LabelLists;\n",
       "\n",
       "Train: LabelList\n",
       "y: MultiCategoryList (32384 items)\n",
       "[MultiCategory haze;primary, MultiCategory agriculture;clear;primary;water, MultiCategory clear;primary, MultiCategory clear;primary, MultiCategory agriculture;clear;habitation;primary;road]...\n",
       "Path: /home/jupyter/.fastai/data/planet\n",
       "x: ImageItemList (32384 items)\n",
       "[Image (3, 256, 256), Image (3, 256, 256), Image (3, 256, 256), Image (3, 256, 256), Image (3, 256, 256)]...\n",
       "Path: /home/jupyter/.fastai/data/planet;\n",
       "\n",
       "Valid: LabelList\n",
       "y: MultiCategoryList (8095 items)\n",
       "[MultiCategory clear;primary, MultiCategory clear;primary, MultiCategory clear;primary, MultiCategory agriculture;bare_ground;clear;habitation;primary;road;water, MultiCategory agriculture;blooming;clear;cultivation;primary;slash_burn]...\n",
       "Path: /home/jupyter/.fastai/data/planet\n",
       "x: ImageItemList (8095 items)\n",
       "[Image (3, 256, 256), Image (3, 256, 256), Image (3, 256, 256), Image (3, 256, 256), Image (3, 256, 256)]...\n",
       "Path: /home/jupyter/.fastai/data/planet;\n",
       "\n",
       "Test: LabelList\n",
       "y: MultiCategoryList (61191 items)\n",
       "[MultiCategory haze;primary, MultiCategory haze;primary, MultiCategory haze;primary, MultiCategory haze;primary, MultiCategory haze;primary]...\n",
       "Path: /home/jupyter/.fastai/data/planet\n",
       "x: ImageItemList (61191 items)\n",
       "[Image (3, 256, 256), Image (3, 256, 256), Image (3, 256, 256), Image (3, 256, 256), Image (3, 256, 256)]...\n",
       "Path: /home/jupyter/.fastai/data/planet"
      ]
     },
     "execution_count": 11,
     "metadata": {},
     "output_type": "execute_result"
    }
   ],
   "source": [
    "src = (ImageItemList\n",
    "       .from_csv(path, 'train_v2.csv', folder='train-jpg', suffix='.jpg')\n",
    "       .random_split_by_pct(0.2, seed=SEED)\n",
    "       .label_from_df(sep=' ')\n",
    "       .add_test_folder('test-jpg'))\n",
    "src"
   ]
  },
  {
   "cell_type": "code",
   "execution_count": 12,
   "metadata": {},
   "outputs": [],
   "source": [
    "tfms = get_transforms(flip_vert=True, max_zoom=1.05, max_lighting=0.1, max_warp=0.0)"
   ]
  },
  {
   "cell_type": "code",
   "execution_count": 13,
   "metadata": {},
   "outputs": [],
   "source": [
    "def get_data(BS, size):\n",
    "    '''\n",
    "    BS: batch_size\n",
    "    size: image_size\n",
    "    '''\n",
    "    data = (src.transform(tfms, size=size)\n",
    "            .databunch(bs=BS)\n",
    "            .normalize(imagenet_stats))"
   ]
  },
  {
   "cell_type": "code",
   "execution_count": 14,
   "metadata": {},
   "outputs": [],
   "source": [
    "data = get_data(32,128)"
   ]
  },
  {
   "cell_type": "code",
   "execution_count": null,
   "metadata": {},
   "outputs": [],
   "source": []
  }
 ],
 "metadata": {
  "kernelspec": {
   "display_name": "Python 3",
   "language": "python",
   "name": "python3"
  },
  "language_info": {
   "codemirror_mode": {
    "name": "ipython",
    "version": 3
   },
   "file_extension": ".py",
   "mimetype": "text/x-python",
   "name": "python",
   "nbconvert_exporter": "python",
   "pygments_lexer": "ipython3",
   "version": "3.7.0"
  }
 },
 "nbformat": 4,
 "nbformat_minor": 2
}
